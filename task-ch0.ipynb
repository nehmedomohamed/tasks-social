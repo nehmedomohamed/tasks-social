{
 "cells": [
  {
   "cell_type": "code",
   "execution_count": 1,
   "id": "400eadd5",
   "metadata": {},
   "outputs": [
    {
     "name": "stdout",
     "output_type": "stream",
     "text": [
      "Hello from Jupyter\n"
     ]
    }
   ],
   "source": [
    "print('Hello from Jupyter')\n"
   ]
  },
  {
   "cell_type": "code",
   "execution_count": 2,
   "id": "5d616591",
   "metadata": {},
   "outputs": [
    {
     "name": "stdout",
     "output_type": "stream",
     "text": [
      "Hello\n",
      "16\n"
     ]
    }
   ],
   "source": [
    "my_str = 'Hello'\n",
    "my_int = 16\n",
    "\n",
    "print(my_str)\n",
    "print(my_int)"
   ]
  },
  {
   "cell_type": "code",
   "execution_count": 3,
   "id": "02a6d2fb",
   "metadata": {},
   "outputs": [
    {
     "data": {
      "text/plain": [
       "'Hello'"
      ]
     },
     "execution_count": 3,
     "metadata": {},
     "output_type": "execute_result"
    }
   ],
   "source": [
    "my_str\n"
   ]
  },
  {
   "cell_type": "code",
   "execution_count": 4,
   "id": "565bb7ad",
   "metadata": {},
   "outputs": [
    {
     "data": {
      "text/plain": [
       "16"
      ]
     },
     "execution_count": 4,
     "metadata": {},
     "output_type": "execute_result"
    }
   ],
   "source": [
    "my_str\n",
    "my_int"
   ]
  },
  {
   "cell_type": "code",
   "execution_count": 5,
   "id": "b52eea5d",
   "metadata": {},
   "outputs": [
    {
     "name": "stdout",
     "output_type": "stream",
     "text": [
      "You have many apples!\n"
     ]
    }
   ],
   "source": [
    "number_of_apples = 5\n",
    "\n",
    "if number_of_apples < 1:\n",
    "    print('You have no apples')\n",
    "elif number_of_apples == 1:\n",
    "    print('You have one apple')\n",
    "elif number_of_apples < 4:\n",
    "    print('You have a few apples')\n",
    "else:\n",
    "    print('You have many apples!')"
   ]
  },
  {
   "cell_type": "code",
   "execution_count": 6,
   "id": "bb831b5d",
   "metadata": {},
   "outputs": [
    {
     "data": {
      "text/plain": [
       "'Bob'"
      ]
     },
     "execution_count": 6,
     "metadata": {},
     "output_type": "execute_result"
    }
   ],
   "source": [
    "student_names = ['Alice', 'Bob', 'Carol', 'Dave']\n",
    "student_names[1]"
   ]
  },
  {
   "cell_type": "code",
   "execution_count": 7,
   "id": "b58066cb",
   "metadata": {},
   "outputs": [
    {
     "data": {
      "text/plain": [
       "'Alice'"
      ]
     },
     "execution_count": 7,
     "metadata": {},
     "output_type": "execute_result"
    }
   ],
   "source": [
    "student_names[0]\n"
   ]
  },
  {
   "cell_type": "code",
   "execution_count": 8,
   "id": "66aafea3",
   "metadata": {},
   "outputs": [
    {
     "data": {
      "text/plain": [
       "'Dave'"
      ]
     },
     "execution_count": 8,
     "metadata": {},
     "output_type": "execute_result"
    }
   ],
   "source": [
    "student_names[-1]\n"
   ]
  },
  {
   "cell_type": "code",
   "execution_count": 9,
   "id": "48620775",
   "metadata": {},
   "outputs": [
    {
     "data": {
      "text/plain": [
       "['Alice', 'Bob']"
      ]
     },
     "execution_count": 9,
     "metadata": {},
     "output_type": "execute_result"
    }
   ],
   "source": [
    "student_names[0:2]\n"
   ]
  },
  {
   "cell_type": "code",
   "execution_count": 10,
   "id": "b66b1464",
   "metadata": {},
   "outputs": [
    {
     "data": {
      "text/plain": [
       "['Bob', 'Carol']"
      ]
     },
     "execution_count": 10,
     "metadata": {},
     "output_type": "execute_result"
    }
   ],
   "source": [
    "student_names[1:3]\n"
   ]
  },
  {
   "cell_type": "code",
   "execution_count": 11,
   "id": "3b5e72e1",
   "metadata": {},
   "outputs": [
    {
     "data": {
      "text/plain": [
       "['Alice', 'Bob']"
      ]
     },
     "execution_count": 11,
     "metadata": {},
     "output_type": "execute_result"
    }
   ],
   "source": [
    "student_names[:2]\n"
   ]
  },
  {
   "cell_type": "code",
   "execution_count": 12,
   "id": "22b3946e",
   "metadata": {},
   "outputs": [
    {
     "data": {
      "text/plain": [
       "['Carol', 'Dave']"
      ]
     },
     "execution_count": 12,
     "metadata": {},
     "output_type": "execute_result"
    }
   ],
   "source": [
    "student_names[2:]\n"
   ]
  },
  {
   "cell_type": "code",
   "execution_count": 13,
   "id": "69654dc8",
   "metadata": {},
   "outputs": [
    {
     "data": {
      "text/plain": [
       "['Alice', 'Bob', 'Carol', 'Dave', 'Esther']"
      ]
     },
     "execution_count": 13,
     "metadata": {},
     "output_type": "execute_result"
    }
   ],
   "source": [
    "student_names.append('Esther')\n",
    "student_names"
   ]
  },
  {
   "cell_type": "code",
   "execution_count": 14,
   "id": "c31b20b1",
   "metadata": {},
   "outputs": [
    {
     "data": {
      "text/plain": [
       "['Alice', 'Bob', 'Dave', 'Esther']"
      ]
     },
     "execution_count": 14,
     "metadata": {},
     "output_type": "execute_result"
    }
   ],
   "source": [
    "del student_names[2]\n",
    "student_names"
   ]
  },
  {
   "cell_type": "code",
   "execution_count": 15,
   "id": "dac6efda",
   "metadata": {},
   "outputs": [
    {
     "data": {
      "text/plain": [
       "['Alice', 'Bob', 'Dave', 'Esther', 'Esther', 'Esther']"
      ]
     },
     "execution_count": 15,
     "metadata": {},
     "output_type": "execute_result"
    }
   ],
   "source": [
    "student_names.append('Esther')\n",
    "student_names.append('Esther')\n",
    "student_names"
   ]
  },
  {
   "cell_type": "code",
   "execution_count": 16,
   "id": "cd8da4f5",
   "metadata": {},
   "outputs": [
    {
     "name": "stdout",
     "output_type": "stream",
     "text": [
      "Hello Alice!\n",
      "Hello Bob!\n",
      "Hello Carol!\n",
      "Hello Dave!\n"
     ]
    }
   ],
   "source": [
    "student_names = ['Alice', 'Bob', 'Carol', 'Dave']\n",
    "\n",
    "for student_name in student_names:\n",
    "    print('Hello ' + student_name + '!')"
   ]
  },
  {
   "cell_type": "code",
   "execution_count": 17,
   "id": "de53cab0",
   "metadata": {},
   "outputs": [
    {
     "data": {
      "text/plain": [
       "['Alice', 'Carol']"
      ]
     },
     "execution_count": 17,
     "metadata": {},
     "output_type": "execute_result"
    }
   ],
   "source": [
    "long_names = []\n",
    "for student_name in student_names:\n",
    "    if len(student_name) > 4:\n",
    "        long_names.append(student_name)\n",
    "\n",
    "long_names"
   ]
  },
  {
   "cell_type": "code",
   "execution_count": 18,
   "id": "082e02b6",
   "metadata": {},
   "outputs": [
    {
     "data": {
      "text/plain": [
       "[('Alice', 'Alice'),\n",
       " ('Alice', 'Bob'),\n",
       " ('Alice', 'Carol'),\n",
       " ('Alice', 'Dave'),\n",
       " ('Bob', 'Alice'),\n",
       " ('Bob', 'Bob'),\n",
       " ('Bob', 'Carol'),\n",
       " ('Bob', 'Dave'),\n",
       " ('Carol', 'Alice'),\n",
       " ('Carol', 'Bob'),\n",
       " ('Carol', 'Carol'),\n",
       " ('Carol', 'Dave'),\n",
       " ('Dave', 'Alice'),\n",
       " ('Dave', 'Bob'),\n",
       " ('Dave', 'Carol'),\n",
       " ('Dave', 'Dave')]"
      ]
     },
     "execution_count": 18,
     "metadata": {},
     "output_type": "execute_result"
    }
   ],
   "source": [
    "student_names = ['Alice', 'Bob', 'Carol', 'Dave']\n",
    "\n",
    "student_pairs = []\n",
    "for student_name_0 in student_names:\n",
    "    for student_name_1 in student_names:\n",
    "        student_pairs.append(\n",
    "            (student_name_0, student_name_1)\n",
    "        )\n",
    "\n",
    "student_pairs"
   ]
  },
  {
   "cell_type": "code",
   "execution_count": 19,
   "id": "e2fd9d70",
   "metadata": {},
   "outputs": [
    {
     "data": {
      "text/plain": [
       "[('Alice', 'Bob'),\n",
       " ('Alice', 'Carol'),\n",
       " ('Alice', 'Dave'),\n",
       " ('Bob', 'Alice'),\n",
       " ('Bob', 'Carol'),\n",
       " ('Bob', 'Dave'),\n",
       " ('Carol', 'Alice'),\n",
       " ('Carol', 'Bob'),\n",
       " ('Carol', 'Dave'),\n",
       " ('Dave', 'Alice'),\n",
       " ('Dave', 'Bob'),\n",
       " ('Dave', 'Carol')]"
      ]
     },
     "execution_count": 19,
     "metadata": {},
     "output_type": "execute_result"
    }
   ],
   "source": [
    "student_names = ['Alice', 'Bob', 'Carol', 'Dave']\n",
    "\n",
    "student_pairs = []\n",
    "for student_name_0 in student_names:\n",
    "    for student_name_1 in student_names:\n",
    "        if student_name_0 != student_name_1:\n",
    "            student_pairs.append(\n",
    "                (student_name_0, student_name_1)\n",
    "            )\n",
    "\n",
    "student_pairs"
   ]
  },
  {
   "cell_type": "code",
   "execution_count": 20,
   "id": "0491a8c4",
   "metadata": {},
   "outputs": [
    {
     "data": {
      "text/plain": [
       "('Alice', 'Spanish', 'A-')"
      ]
     },
     "execution_count": 20,
     "metadata": {},
     "output_type": "execute_result"
    }
   ],
   "source": [
    "student_grade = ('Alice', 'Spanish', 'A-')\n",
    "student_grade"
   ]
  },
  {
   "cell_type": "code",
   "execution_count": 21,
   "id": "7525c008",
   "metadata": {},
   "outputs": [
    {
     "data": {
      "text/plain": [
       "'Alice'"
      ]
     },
     "execution_count": 21,
     "metadata": {},
     "output_type": "execute_result"
    }
   ],
   "source": [
    "student_grade[0]\n"
   ]
  },
  {
   "cell_type": "code",
   "execution_count": 22,
   "id": "bd01e4b4",
   "metadata": {},
   "outputs": [
    {
     "ename": "AttributeError",
     "evalue": "'tuple' object has no attribute 'append'",
     "output_type": "error",
     "traceback": [
      "\u001b[1;31m---------------------------------------------------------------------------\u001b[0m",
      "\u001b[1;31mAttributeError\u001b[0m                            Traceback (most recent call last)",
      "\u001b[1;32m<ipython-input-22-782d93a0b0cf>\u001b[0m in \u001b[0;36m<module>\u001b[1;34m\u001b[0m\n\u001b[1;32m----> 1\u001b[1;33m \u001b[0mstudent_grade\u001b[0m\u001b[1;33m.\u001b[0m\u001b[0mappend\u001b[0m\u001b[1;33m(\u001b[0m\u001b[1;34m'IU Bloomington'\u001b[0m\u001b[1;33m)\u001b[0m\u001b[1;33m\u001b[0m\u001b[1;33m\u001b[0m\u001b[0m\n\u001b[0m",
      "\u001b[1;31mAttributeError\u001b[0m: 'tuple' object has no attribute 'append'"
     ]
    }
   ],
   "source": [
    "student_grade.append('IU Bloomington')\n"
   ]
  },
  {
   "cell_type": "code",
   "execution_count": 23,
   "id": "f198ad0f",
   "metadata": {},
   "outputs": [
    {
     "ename": "TypeError",
     "evalue": "'tuple' object doesn't support item deletion",
     "output_type": "error",
     "traceback": [
      "\u001b[1;31m---------------------------------------------------------------------------\u001b[0m",
      "\u001b[1;31mTypeError\u001b[0m                                 Traceback (most recent call last)",
      "\u001b[1;32m<ipython-input-23-f8ded3b186ff>\u001b[0m in \u001b[0;36m<module>\u001b[1;34m\u001b[0m\n\u001b[1;32m----> 1\u001b[1;33m \u001b[1;32mdel\u001b[0m \u001b[0mstudent_grade\u001b[0m\u001b[1;33m[\u001b[0m\u001b[1;36m2\u001b[0m\u001b[1;33m]\u001b[0m\u001b[1;33m\u001b[0m\u001b[1;33m\u001b[0m\u001b[0m\n\u001b[0m",
      "\u001b[1;31mTypeError\u001b[0m: 'tuple' object doesn't support item deletion"
     ]
    }
   ],
   "source": [
    "del student_grade[2]\n"
   ]
  },
  {
   "cell_type": "code",
   "execution_count": 24,
   "id": "e389fe99",
   "metadata": {},
   "outputs": [
    {
     "ename": "TypeError",
     "evalue": "'tuple' object does not support item assignment",
     "output_type": "error",
     "traceback": [
      "\u001b[1;31m---------------------------------------------------------------------------\u001b[0m",
      "\u001b[1;31mTypeError\u001b[0m                                 Traceback (most recent call last)",
      "\u001b[1;32m<ipython-input-24-c9fd9c464431>\u001b[0m in \u001b[0;36m<module>\u001b[1;34m\u001b[0m\n\u001b[1;32m----> 1\u001b[1;33m \u001b[0mstudent_grade\u001b[0m\u001b[1;33m[\u001b[0m\u001b[1;36m2\u001b[0m\u001b[1;33m]\u001b[0m \u001b[1;33m=\u001b[0m \u001b[1;34m'C'\u001b[0m\u001b[1;33m\u001b[0m\u001b[1;33m\u001b[0m\u001b[0m\n\u001b[0m",
      "\u001b[1;31mTypeError\u001b[0m: 'tuple' object does not support item assignment"
     ]
    }
   ],
   "source": [
    "student_grade[2] = 'C'\n"
   ]
  },
  {
   "cell_type": "code",
   "execution_count": 25,
   "id": "c8eac6ce",
   "metadata": {},
   "outputs": [
    {
     "name": "stdout",
     "output_type": "stream",
     "text": [
      "Alice\n",
      "Spanish\n",
      "A-\n"
     ]
    }
   ],
   "source": [
    "student_grade = ('Alice', 'Spanish', 'A-')\n",
    "student_name, subject, grade = student_grade\n",
    "\n",
    "print(student_name)\n",
    "print(subject)\n",
    "print(grade)"
   ]
  },
  {
   "cell_type": "code",
   "execution_count": 26,
   "id": "9f84009b",
   "metadata": {},
   "outputs": [
    {
     "name": "stdout",
     "output_type": "stream",
     "text": [
      "Congratulations Alice on getting an A in Spanish\n",
      "Congratulations Dave on getting an A- in Italian\n"
     ]
    }
   ],
   "source": [
    "student_grades = [\n",
    "    ('Alice', 'Spanish', 'A'),\n",
    "    ('Bob', 'French', 'C'),\n",
    "    ('Carol', 'Italian', 'B+'),\n",
    "    ('Dave', 'Italian', 'A-'),\n",
    "]\n",
    "\n",
    "for student_name, subject, grade in student_grades:\n",
    "    if grade.startswith('A'):\n",
    "        print('Congratulations', student_name,\n",
    "              'on getting an', grade,\n",
    "              'in', subject)"
   ]
  },
  {
   "cell_type": "code",
   "execution_count": 27,
   "id": "78ec01ac",
   "metadata": {},
   "outputs": [
    {
     "name": "stdout",
     "output_type": "stream",
     "text": [
      "Congratulations Alice on getting an A in Spanish\n",
      "Congratulations Dave on getting an A- in Italian\n"
     ]
    }
   ],
   "source": [
    "for student_grade in student_grades:\n",
    "    if student_grade[2].startswith('A'):\n",
    "        print('Congratulations', student_grade[0],\n",
    "              'on getting an', student_grade[2],\n",
    "              'in', student_grade[1])"
   ]
  },
  {
   "cell_type": "code",
   "execution_count": 28,
   "id": "01aa52a2",
   "metadata": {},
   "outputs": [],
   "source": [
    "foreign_languages = {\n",
    "    'Alice': 'Spanish',\n",
    "    'Bob': 'French',\n",
    "    'Carol': 'Italian',\n",
    "    'Dave': 'Italian',\n",
    "}"
   ]
  },
  {
   "cell_type": "code",
   "execution_count": 29,
   "id": "e967c3b1",
   "metadata": {},
   "outputs": [
    {
     "data": {
      "text/plain": [
       "'Italian'"
      ]
     },
     "execution_count": 29,
     "metadata": {},
     "output_type": "execute_result"
    }
   ],
   "source": [
    "foreign_languages['Carol']\n"
   ]
  },
  {
   "cell_type": "code",
   "execution_count": 30,
   "id": "fd0a6186",
   "metadata": {},
   "outputs": [
    {
     "ename": "KeyError",
     "evalue": "'Zeke'",
     "output_type": "error",
     "traceback": [
      "\u001b[1;31m---------------------------------------------------------------------------\u001b[0m",
      "\u001b[1;31mKeyError\u001b[0m                                  Traceback (most recent call last)",
      "\u001b[1;32m<ipython-input-30-1ff8fc89736a>\u001b[0m in \u001b[0;36m<module>\u001b[1;34m\u001b[0m\n\u001b[1;32m----> 1\u001b[1;33m \u001b[0mforeign_languages\u001b[0m\u001b[1;33m[\u001b[0m\u001b[1;34m'Zeke'\u001b[0m\u001b[1;33m]\u001b[0m\u001b[1;33m\u001b[0m\u001b[1;33m\u001b[0m\u001b[0m\n\u001b[0m",
      "\u001b[1;31mKeyError\u001b[0m: 'Zeke'"
     ]
    }
   ],
   "source": [
    "foreign_languages['Zeke']\n"
   ]
  },
  {
   "cell_type": "code",
   "execution_count": 31,
   "id": "02b5b83e",
   "metadata": {},
   "outputs": [
    {
     "data": {
      "text/plain": [
       "False"
      ]
     },
     "execution_count": 31,
     "metadata": {},
     "output_type": "execute_result"
    }
   ],
   "source": [
    "'Zeke' in foreign_languages\n"
   ]
  },
  {
   "cell_type": "code",
   "execution_count": 32,
   "id": "d6506afd",
   "metadata": {},
   "outputs": [
    {
     "data": {
      "text/plain": [
       "True"
      ]
     },
     "execution_count": 32,
     "metadata": {},
     "output_type": "execute_result"
    }
   ],
   "source": [
    "'Alice' in foreign_languages\n"
   ]
  },
  {
   "cell_type": "code",
   "execution_count": 33,
   "id": "dd502e11",
   "metadata": {},
   "outputs": [
    {
     "data": {
      "text/plain": [
       "False"
      ]
     },
     "execution_count": 33,
     "metadata": {},
     "output_type": "execute_result"
    }
   ],
   "source": [
    "'alice' in foreign_languages\n"
   ]
  },
  {
   "cell_type": "code",
   "execution_count": 34,
   "id": "df66daf8",
   "metadata": {},
   "outputs": [
    {
     "data": {
      "text/plain": [
       "{'Alice': 'Spanish',\n",
       " 'Bob': 'French',\n",
       " 'Carol': 'Italian',\n",
       " 'Dave': 'Italian',\n",
       " 'Esther': 'French'}"
      ]
     },
     "execution_count": 34,
     "metadata": {},
     "output_type": "execute_result"
    }
   ],
   "source": [
    "foreign_languages['Esther'] = 'French'\n",
    "foreign_languages"
   ]
  },
  {
   "cell_type": "code",
   "execution_count": 35,
   "id": "74db8d20",
   "metadata": {},
   "outputs": [
    {
     "data": {
      "text/plain": [
       "{'Alice': 'Spanish', 'Carol': 'Italian', 'Dave': 'Italian', 'Esther': 'French'}"
      ]
     },
     "execution_count": 35,
     "metadata": {},
     "output_type": "execute_result"
    }
   ],
   "source": [
    "del foreign_languages['Bob']\n",
    "foreign_languages"
   ]
  },
  {
   "cell_type": "code",
   "execution_count": 36,
   "id": "281c50d9",
   "metadata": {},
   "outputs": [
    {
     "data": {
      "text/plain": [
       "{'Alice': 'Spanish',\n",
       " 'Carol': 'Italian',\n",
       " 'Dave': 'Italian',\n",
       " 'Esther': 'Italian'}"
      ]
     },
     "execution_count": 36,
     "metadata": {},
     "output_type": "execute_result"
    }
   ],
   "source": [
    "foreign_languages['Esther'] = 'Italian'\n",
    "foreign_languages"
   ]
  },
  {
   "cell_type": "code",
   "execution_count": 37,
   "id": "63e05831",
   "metadata": {},
   "outputs": [
    {
     "name": "stdout",
     "output_type": "stream",
     "text": [
      "Alice is taking Spanish\n",
      "Carol is taking Italian\n",
      "Dave is taking Italian\n",
      "Esther is taking Italian\n"
     ]
    }
   ],
   "source": [
    "for key in foreign_languages:\n",
    "    value = foreign_languages[key]\n",
    "    print(key, 'is taking', value)"
   ]
  },
  {
   "cell_type": "code",
   "execution_count": 38,
   "id": "9f8747d0",
   "metadata": {},
   "outputs": [
    {
     "name": "stdout",
     "output_type": "stream",
     "text": [
      "Alice is taking Spanish\n",
      "Carol is taking Italian\n",
      "Dave is taking Italian\n",
      "Esther is taking Italian\n"
     ]
    }
   ],
   "source": [
    "for key, value in foreign_languages.items():\n",
    "    print(key, 'is taking', value)"
   ]
  },
  {
   "cell_type": "code",
   "execution_count": 39,
   "id": "98219a2e",
   "metadata": {},
   "outputs": [],
   "source": [
    "student_grade = ('Alice', 'Spanish', 'A')\n"
   ]
  },
  {
   "cell_type": "code",
   "execution_count": 40,
   "id": "cd221433",
   "metadata": {},
   "outputs": [
    {
     "name": "stdout",
     "output_type": "stream",
     "text": [
      "Alice got a grade of A in Spanish\n"
     ]
    }
   ],
   "source": [
    "student_name, subject, grade = student_grades[0]\n",
    "print(student_name, 'got a grade of', grade, 'in', subject)"
   ]
  },
  {
   "cell_type": "code",
   "execution_count": 41,
   "id": "4fa28505",
   "metadata": {},
   "outputs": [
    {
     "name": "stdout",
     "output_type": "stream",
     "text": [
      "Alice got a grade of A in Spanish\n"
     ]
    }
   ],
   "source": [
    "record = {\n",
    "    'name': 'Alice',\n",
    "    'subject': 'Spanish',\n",
    "    'grade': 'A',\n",
    "}\n",
    "print(record['name'],\n",
    "      'got a grade of', record['grade'],\n",
    "      'in', record['subject'])"
   ]
  },
  {
   "cell_type": "code",
   "execution_count": 42,
   "id": "038c630f",
   "metadata": {},
   "outputs": [],
   "source": [
    "student_grades = [\n",
    "    ('Alice', 'Spanish', 'A'),\n",
    "    ('Bob', 'French', 'C'),\n",
    "    ('Carol', 'Italian', 'B+'),\n",
    "    ('Dave', 'Italian', 'A-'),\n",
    "]"
   ]
  },
  {
   "cell_type": "code",
   "execution_count": 43,
   "id": "35311873",
   "metadata": {},
   "outputs": [
    {
     "data": {
      "text/plain": [
       "('Bob', 'French', 'C')"
      ]
     },
     "execution_count": 43,
     "metadata": {},
     "output_type": "execute_result"
    }
   ],
   "source": [
    "student_grades[1]\n"
   ]
  },
  {
   "cell_type": "code",
   "execution_count": 44,
   "id": "e80c3542",
   "metadata": {},
   "outputs": [
    {
     "data": {
      "text/plain": [
       "'C'"
      ]
     },
     "execution_count": 44,
     "metadata": {},
     "output_type": "execute_result"
    }
   ],
   "source": [
    "student_grades[1][2]\n"
   ]
  },
  {
   "cell_type": "code",
   "execution_count": 45,
   "id": "ef98298b",
   "metadata": {},
   "outputs": [
    {
     "data": {
      "text/plain": [
       "[{'name': 'Alice', 'subject': 'Spanish', 'grade': 'A'},\n",
       " {'name': 'Bob', 'subject': 'French', 'grade': 'C'},\n",
       " {'name': 'Carol', 'subject': 'Italian', 'grade': 'B+'},\n",
       " {'name': 'Dave', 'subject': 'Italian', 'grade': 'A-'}]"
      ]
     },
     "execution_count": 45,
     "metadata": {},
     "output_type": "execute_result"
    }
   ],
   "source": [
    "student_grade_records = []\n",
    "for student_name, subject, grade in student_grades:\n",
    "    record = {\n",
    "        'name': student_name,\n",
    "        'subject': subject,\n",
    "        'grade': grade,\n",
    "    }\n",
    "    student_grade_records.append(record)\n",
    "    \n",
    "student_grade_records"
   ]
  },
  {
   "cell_type": "code",
   "execution_count": 46,
   "id": "dd16a08f",
   "metadata": {},
   "outputs": [
    {
     "data": {
      "text/plain": [
       "{'name': 'Bob', 'subject': 'French', 'grade': 'C'}"
      ]
     },
     "execution_count": 46,
     "metadata": {},
     "output_type": "execute_result"
    }
   ],
   "source": [
    "student_grade_records[1]\n"
   ]
  },
  {
   "cell_type": "code",
   "execution_count": 47,
   "id": "c7c1a724",
   "metadata": {},
   "outputs": [
    {
     "data": {
      "text/plain": [
       "'C'"
      ]
     },
     "execution_count": 47,
     "metadata": {},
     "output_type": "execute_result"
    }
   ],
   "source": [
    "student_grade_records[1]['grade']\n"
   ]
  },
  {
   "cell_type": "code",
   "execution_count": 48,
   "id": "bb8648cd",
   "metadata": {},
   "outputs": [
    {
     "name": "stdout",
     "output_type": "stream",
     "text": [
      "Congratulations Alice on getting an A in Spanish\n",
      "Congratulations Dave on getting an A- in Italian\n"
     ]
    }
   ],
   "source": [
    "for record in student_grade_records:\n",
    "    if record['grade'].startswith('A'):\n",
    "        print('Congratulations', record['name'], \n",
    "              'on getting an', record['grade'], \n",
    "              'in', record['subject'])"
   ]
  },
  {
   "cell_type": "code",
   "execution_count": 49,
   "id": "41f960a9",
   "metadata": {},
   "outputs": [
    {
     "data": {
      "text/plain": [
       "{'Alice': {'subject': 'Spanish', 'grade': 'A'},\n",
       " 'Bob': {'subject': 'French', 'grade': 'C'},\n",
       " 'Carol': {'subject': 'Italian', 'grade': 'B+'},\n",
       " 'Dave': {'subject': 'Italian', 'grade': 'A-'}}"
      ]
     },
     "execution_count": 49,
     "metadata": {},
     "output_type": "execute_result"
    }
   ],
   "source": [
    "foreign_language_grades = {}\n",
    "for student_name, subject, grade in student_grades:\n",
    "    record = {\n",
    "        'subject': subject,\n",
    "        'grade': grade,\n",
    "    }\n",
    "    foreign_language_grades[student_name] = record\n",
    "    \n",
    "foreign_language_grades"
   ]
  },
  {
   "cell_type": "code",
   "execution_count": 50,
   "id": "7e3ebd1c",
   "metadata": {},
   "outputs": [
    {
     "data": {
      "text/plain": [
       "{'subject': 'Spanish', 'grade': 'A'}"
      ]
     },
     "execution_count": 50,
     "metadata": {},
     "output_type": "execute_result"
    }
   ],
   "source": [
    "foreign_language_grades['Alice']\n"
   ]
  },
  {
   "cell_type": "code",
   "execution_count": 51,
   "id": "d32c76e4",
   "metadata": {},
   "outputs": [
    {
     "data": {
      "text/plain": [
       "'A'"
      ]
     },
     "execution_count": 51,
     "metadata": {},
     "output_type": "execute_result"
    }
   ],
   "source": [
    "foreign_language_grades['Alice']['grade']\n"
   ]
  },
  {
   "cell_type": "code",
   "execution_count": 52,
   "id": "923dab9d",
   "metadata": {},
   "outputs": [
    {
     "data": {
      "text/plain": [
       "{('Alice', 'Spanish'): 'A',\n",
       " ('Bob', 'French'): 'C',\n",
       " ('Carol', 'Italian'): 'B+',\n",
       " ('Dave', 'Italian'): 'A-'}"
      ]
     },
     "execution_count": 52,
     "metadata": {},
     "output_type": "execute_result"
    }
   ],
   "source": [
    "student_course_grades = {}\n",
    "for student_name, subject, grade in student_grades:\n",
    "    student_course_grades[student_name, subject] = grade\n",
    "    \n",
    "student_course_grades"
   ]
  },
  {
   "cell_type": "code",
   "execution_count": 53,
   "id": "47e1ae66",
   "metadata": {},
   "outputs": [],
   "source": [
    "student_course_grades['Alice', 'Math'] = 'A'\n",
    "student_course_grades['Alice', 'History'] = 'B'"
   ]
  },
  {
   "cell_type": "code",
   "execution_count": 54,
   "id": "5ba5f0eb",
   "metadata": {},
   "outputs": [],
   "source": [
    "student_report_cards = {}\n",
    "for student_name, subject, grade in student_grades:\n",
    "    if student_name not in student_report_cards:\n",
    "        student_report_cards[student_name] = {}\n",
    "    student_report_cards[student_name][subject] = grade"
   ]
  },
  {
   "cell_type": "code",
   "execution_count": 55,
   "id": "b384f512",
   "metadata": {},
   "outputs": [
    {
     "data": {
      "text/plain": [
       "{'Alice': {'Spanish': 'A'},\n",
       " 'Bob': {'French': 'C'},\n",
       " 'Carol': {'Italian': 'B+'},\n",
       " 'Dave': {'Italian': 'A-'}}"
      ]
     },
     "execution_count": 55,
     "metadata": {},
     "output_type": "execute_result"
    }
   ],
   "source": [
    "student_report_cards\n"
   ]
  },
  {
   "cell_type": "code",
   "execution_count": 56,
   "id": "4f3b460c",
   "metadata": {},
   "outputs": [],
   "source": [
    "student_report_cards['Alice']['Math'] = 'A'\n",
    "student_report_cards['Alice']['History'] = 'B'\n"
   ]
  },
  {
   "cell_type": "code",
   "execution_count": 57,
   "id": "97478d3d",
   "metadata": {},
   "outputs": [
    {
     "data": {
      "text/plain": [
       "{'Alice': {'Spanish': 'A', 'Math': 'A', 'History': 'B'},\n",
       " 'Bob': {'French': 'C'},\n",
       " 'Carol': {'Italian': 'B+'},\n",
       " 'Dave': {'Italian': 'A-'}}"
      ]
     },
     "execution_count": 57,
     "metadata": {},
     "output_type": "execute_result"
    }
   ],
   "source": [
    "student_report_cards\n"
   ]
  },
  {
   "cell_type": "code",
   "execution_count": 58,
   "id": "8014cdb2",
   "metadata": {},
   "outputs": [
    {
     "data": {
      "text/plain": [
       "{'Spanish': 'A', 'Math': 'A', 'History': 'B'}"
      ]
     },
     "execution_count": 58,
     "metadata": {},
     "output_type": "execute_result"
    }
   ],
   "source": [
    "student_report_cards['Alice']\n"
   ]
  },
  {
   "cell_type": "code",
   "execution_count": null,
   "id": "fc06d9d0",
   "metadata": {},
   "outputs": [],
   "source": []
  }
 ],
 "metadata": {
  "kernelspec": {
   "display_name": "Python 3",
   "language": "python",
   "name": "python3"
  },
  "language_info": {
   "codemirror_mode": {
    "name": "ipython",
    "version": 3
   },
   "file_extension": ".py",
   "mimetype": "text/x-python",
   "name": "python",
   "nbconvert_exporter": "python",
   "pygments_lexer": "ipython3",
   "version": "3.8.8"
  }
 },
 "nbformat": 4,
 "nbformat_minor": 5
}
